{
 "cells": [
  {
   "cell_type": "code",
   "execution_count": 68,
   "metadata": {},
   "outputs": [],
   "source": [
    "import os\n",
    "import pandas as pd\n",
    "from PIL import Image"
   ]
  },
  {
   "cell_type": "code",
   "execution_count": 69,
   "metadata": {},
   "outputs": [],
   "source": [
    "goku = {\"name\":\"goku\",}\n",
    "frieza = {\"name\":\"frieza\",}"
   ]
  },
  {
   "cell_type": "code",
   "execution_count": 85,
   "metadata": {},
   "outputs": [],
   "source": [
    "goku['transform'] = [3,2,1]\n",
    "goku['idle'] = [13,11,6]\n",
    "goku['punch'] = [20,21,22,26]\n",
    "goku['key_blast'] = [48,51,55]\n",
    "goku['kamehameha'] = [70,71,72,73]\n",
    "goku['damage'] = [77,78,76,79,80,82,81]\n",
    "goku['actions'] = ['transform','idle','punch','key_blast','kamehameha','damage']\n",
    "goku['map'] = pd.read_csv(f'./sprites/goku/goku-map.csv')"
   ]
  },
  {
   "cell_type": "code",
   "execution_count": 86,
   "metadata": {},
   "outputs": [],
   "source": [
    "frieza['transform'] = [1,2]\n",
    "frieza['idle'] = [29]\n",
    "frieza['walk'] = [23,25,26,22,88,92]\n",
    "frieza['tail_whip'] = [89,90,91]\n",
    "frieza['key_blast'] = [72,70,67,65,63]\n",
    "frieza['explosion'] = [68,66,62,56]\n",
    "frieza['disk_attack'] = [82,87,74,73,71,69]\n",
    "frieza['damage'] = [121,135,131,133,132,130,137,134,136]\n",
    "frieza['actions'] = ['transform','idle','walk','tail_whip','key_blast','explosion','disk_attack','damage']"
   ]
  },
  {
   "cell_type": "code",
   "execution_count": null,
   "metadata": {},
   "outputs": [],
   "source": [
    "characters = [goku,frieza]"
   ]
  },
  {
   "cell_type": "markdown",
   "metadata": {},
   "source": [
    "### Function to create action images"
   ]
  },
  {
   "cell_type": "code",
   "execution_count": 90,
   "metadata": {},
   "outputs": [],
   "source": [
    "def extract_sprites(character):\n",
    "    name = character['name']\n",
    "    actions = character['actions']\n",
    "    character['map'] = pd.read_csv(f'./sprites/{name}/{name}-map.csv')\n",
    "    for action in actions:\n",
    "        action_num = 1\n",
    "        for sprite_idx in character[action]:\n",
    "            _,left,upper,width,height = character['map'].iloc[sprite_idx-1]\n",
    "            right=left+width\n",
    "            lower=upper+height\n",
    "            im = Image.open(f\"./sprites/{name}/{name}-spritesheet-transparent.png\").crop((left, upper, right, lower))\n",
    "            im.save(f\"./sprites/{name}/{name}-{action}-{action_num}.png\")\n",
    "            action_num+=1\n",
    "            \n",
    "            "
   ]
  },
  {
   "cell_type": "code",
   "execution_count": 91,
   "metadata": {},
   "outputs": [],
   "source": [
    "for character in characters:\n",
    "    extract_sprites(character)"
   ]
  },
  {
   "cell_type": "markdown",
   "metadata": {},
   "source": [
    "## Practice and Scratchwork"
   ]
  },
  {
   "cell_type": "code",
   "execution_count": 56,
   "metadata": {},
   "outputs": [
    {
     "data": {
      "image/png": "[encoded data removed]",
      "text/plain": [
       "<PIL.Image.Image image mode=P size=47x89 at 0x2A6B4E11E88>"
      ]
     },
     "metadata": {},
     "output_type": "display_data"
    }
   ],
   "source": [
    "_,left,upper,width,height = goku_map_df.iloc[0]\n",
    "right=left+width\n",
    "lower=upper+height\n",
    "im = Image.open(\"./sprites/goku/goku-spritesheet-transparent.png\").crop((left, upper, right, lower))\n",
    "display(im)\n",
    "im1\n",
    "display(im)"
   ]
  },
  {
   "cell_type": "code",
   "execution_count": 32,
   "metadata": {},
   "outputs": [],
   "source": [
    "im.save(\"./sprites/goku/goku-idle-1.png\")"
   ]
  }
 ],
 "metadata": {
  "kernelspec": {
   "display_name": "Python 3",
   "language": "python",
   "name": "python3"
  },
  "language_info": {
   "codemirror_mode": {
    "name": "ipython",
    "version": 3
   },
   "file_extension": ".py",
   "mimetype": "text/x-python",
   "name": "python",
   "nbconvert_exporter": "python",
   "pygments_lexer": "ipython3",
   "version": "3.7.6"
  }
 },
 "nbformat": 4,
 "nbformat_minor": 4
}
